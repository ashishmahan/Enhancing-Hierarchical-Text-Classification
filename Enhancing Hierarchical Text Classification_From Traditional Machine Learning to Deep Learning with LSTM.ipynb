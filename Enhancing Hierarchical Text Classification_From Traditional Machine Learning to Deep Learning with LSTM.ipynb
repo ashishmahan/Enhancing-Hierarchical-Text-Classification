{
  "nbformat": 4,
  "nbformat_minor": 0,
  "metadata": {
    "colab": {
      "provenance": [],
      "gpuType": "T4",
      "authorship_tag": "ABX9TyPDIOYZVvEcc4g3bafo7c2n",
      "include_colab_link": true
    },
    "kernelspec": {
      "name": "python3",
      "display_name": "Python 3"
    },
    "language_info": {
      "name": "python"
    },
    "accelerator": "GPU"
  },
  "cells": [
    {
      "cell_type": "markdown",
      "metadata": {
        "id": "view-in-github",
        "colab_type": "text"
      },
      "source": [
        "<a href=\"https://colab.research.google.com/github/ashishmahan/Enhancing-Hierarchical-Text-Classification/blob/main/Enhancing%20Hierarchical%20Text%20Classification_From%20Traditional%20Machine%20Learning%20to%20Deep%20Learning%20with%20LSTM.ipynb\" target=\"_parent\"><img src=\"https://colab.research.google.com/assets/colab-badge.svg\" alt=\"Open In Colab\"/></a>"
      ]
    },
    {
      "cell_type": "markdown",
      "source": [
        "Initially, I attempted to solve the problem using traditional machine learning techniques. The approach involved:\n",
        "\n",
        "**Text Vectorization:**\n",
        "\n",
        "Using **'TfidfVectorizer'** from **'sklearn.feature_extraction.text'** to convert the text data into numerical form. The **max_features** parameter was set to 10,000 to limit the dimensionality.\n",
        "\n",
        "**Classification Model:**\n",
        "\n",
        " A **LogisticRegression** model was trained for each category level using the **MultiOutputClassifier** to handle the multi-label nature of the problem.\n",
        "\n",
        "**Pipeline Setup:**\n",
        "\n",
        " The text vectorization and logistic regression were combined into a single pipeline for ease of processing.\n",
        "\n",
        "**Results:**\n",
        "\n",
        "Cat1 Accuracy: 0.7545\n",
        "\n",
        "Cat2 Accuracy: 0.4895\n",
        "\n",
        "Cat3 Accuracy: 0.32\n",
        "\n",
        "The traditional approach was straightforward and computationally efficient. However, it struggled with the deeper levels of the hierarchy, particularly Cat2 and Cat3, where the accuracy dropped significantly.\n",
        "\n",
        "\n",
        "To address the limitations of the initial approach, I switched to a deep learning model, which is better suited for capturing the complex relationships in hierarchical classification tasks."
      ],
      "metadata": {
        "id": "_Y1EEUcbuTGY"
      }
    },
    {
      "cell_type": "markdown",
      "source": [
        "**Deep Learning with LSTM based Approach that I used to solve this task:**\n",
        "\n",
        "**1. Preprocessing:**\n",
        "\n",
        "Tokenization and text vectorization.\n",
        "\n",
        "Encoded target labels using **Label Encoder** method for the three hierarchical levels. Also padded the sequences to 200 tokens to ensure uniform input length.\n",
        "\n",
        "An embedding layer was used to convert the input text sequences into dense vectors.\n",
        "\n",
        "\n",
        "**2. Model Design:**\n",
        "\n",
        "A Bidirectional LSTM model with 256 LSTM units (e.g., using a shared base model with multiple output layers corresponding to each category level). I applied class weights to give more importance to less frequent categories. I also used Dropout Regularization and Early Stopping during training to prevent overfitting.\n",
        "\n",
        "Separate dense layers were used to output predictions for each category level (Cat1, Cat2, and Cat3), respecting the hierarchy.\n",
        "\n",
        "**3. Training and Evaluation:**\n",
        "\n",
        "Categorical cross-entropy loss was used for each output.\n",
        "\n",
        "Trained the model on the dataset, ensuring hierarchical consistency.\n",
        "\n",
        "Evaluated accuracy at each level of the category hierarchy.\n",
        "\n",
        "Also I predicted the model on a sample text \"This product is fantastic and works great for my dog!\""
      ],
      "metadata": {
        "id": "JEot6wsSjdPy"
      }
    },
    {
      "cell_type": "code",
      "source": [
        "import zipfile\n",
        "import os\n",
        "\n",
        "zip_file_path = '/content/data.csv.zip'\n",
        "extraction_dir = '/content/extracted_data'\n",
        "\n",
        "os.makedirs(extraction_dir, exist_ok=True)\n",
        "\n",
        "# Extracted the zip file\n",
        "with zipfile.ZipFile(zip_file_path, 'r') as zip_ref:\n",
        "    zip_ref.extractall(extraction_dir)\n",
        "\n",
        "# List the extracted files\n",
        "extracted_files = os.listdir(extraction_dir)\n",
        "extracted_files\n"
      ],
      "metadata": {
        "colab": {
          "base_uri": "https://localhost:8080/"
        },
        "id": "19k7XoFrOvMa",
        "outputId": "5309652b-2524-49f0-8350-54ba20c980f1"
      },
      "execution_count": null,
      "outputs": [
        {
          "output_type": "execute_result",
          "data": {
            "text/plain": [
              "['data.csv', '__MACOSX']"
            ]
          },
          "metadata": {},
          "execution_count": 1
        }
      ]
    },
    {
      "cell_type": "code",
      "source": [
        "import pandas as pd\n",
        "\n",
        "csv_file_path = os.path.join(extraction_dir, 'data.csv')\n",
        "data = pd.read_csv(csv_file_path)\n",
        "\n",
        "data.head(), data.columns\n"
      ],
      "metadata": {
        "colab": {
          "base_uri": "https://localhost:8080/"
        },
        "id": "pRZS5CpiPDe1",
        "outputId": "10d6ed2e-0911-49a9-a923-d54275bb0875"
      },
      "execution_count": null,
      "outputs": [
        {
          "output_type": "execute_result",
          "data": {
            "text/plain": [
              "(    productId                                              Title  \\\n",
              " 0  B0002AQK70     PetSafe Staywell Pet Door with Clear Hard Flap   \n",
              " 1  B0002DK8OI                      Kaytee Timothy Cubes, 1-Pound   \n",
              " 2  B0006VJ6TO                                    Body Back Buddy   \n",
              " 3  B000EZSFXA         SnackMasters California Style Turkey Jerky   \n",
              " 4  B000KV61FC  Premier Busy Buddy Tug-a-Jug Treat Dispensing ...   \n",
              " \n",
              "            userId        Time  \\\n",
              " 0  A2L6QTQQI13LZG  1344211200   \n",
              " 1   A2HJUOZ9R9K4F  1344211200   \n",
              " 2  A14PK96LL78NN3  1344211200   \n",
              " 3  A2UW73HU9UMOTY  1344211200   \n",
              " 4  A1Q99RNV0TKW8R  1344211200   \n",
              " \n",
              "                                                 Text                  Cat1  \\\n",
              " 0  We've only had it installed about 2 weeks. So ...          pet supplies   \n",
              " 1  My bunny had a hard time eating this because t...          pet supplies   \n",
              " 2  would never in a million years have guessed th...  health personal care   \n",
              " 3  Being the jerky fanatic I am, snackmasters han...  grocery gourmet food   \n",
              " 4  Wondered how quick my dog would catch on to th...          pet supplies   \n",
              " \n",
              "                    Cat2                Cat3  \n",
              " 0                  cats           cat flaps  \n",
              " 1  bunny rabbit central                food  \n",
              " 2           health care  massage relaxation  \n",
              " 3            snack food   jerky dried meats  \n",
              " 4                  dogs                toys  ,\n",
              " Index(['productId', 'Title', 'userId', 'Time', 'Text', 'Cat1', 'Cat2', 'Cat3'], dtype='object'))"
            ]
          },
          "metadata": {},
          "execution_count": 2
        }
      ]
    },
    {
      "cell_type": "code",
      "source": [
        "data.info()"
      ],
      "metadata": {
        "colab": {
          "base_uri": "https://localhost:8080/"
        },
        "id": "qu2vOiU6oJI4",
        "outputId": "2632e4d9-6fae-4bd7-91d2-fc56435b4f2a"
      },
      "execution_count": null,
      "outputs": [
        {
          "output_type": "stream",
          "name": "stdout",
          "text": [
            "<class 'pandas.core.frame.DataFrame'>\n",
            "RangeIndex: 10000 entries, 0 to 9999\n",
            "Data columns (total 8 columns):\n",
            " #   Column     Non-Null Count  Dtype \n",
            "---  ------     --------------  ----- \n",
            " 0   productId  10000 non-null  object\n",
            " 1   Title      9995 non-null   object\n",
            " 2   userId     10000 non-null  object\n",
            " 3   Time       10000 non-null  int64 \n",
            " 4   Text       10000 non-null  object\n",
            " 5   Cat1       10000 non-null  object\n",
            " 6   Cat2       10000 non-null  object\n",
            " 7   Cat3       10000 non-null  object\n",
            "dtypes: int64(1), object(7)\n",
            "memory usage: 625.1+ KB\n"
          ]
        }
      ]
    },
    {
      "cell_type": "code",
      "source": [
        "# removing special characters from data using regular expressions\n",
        "\n",
        "import re\n",
        "p = re.compile(r'[^\\w\\s]+')\n",
        "\n",
        "data['Text'] = [p.sub('', x) for x in data['Text']]"
      ],
      "metadata": {
        "id": "8sx-Dkokq1u8"
      },
      "execution_count": null,
      "outputs": []
    },
    {
      "cell_type": "code",
      "source": [
        "# make all characters lower()\n",
        "\n",
        "data.apply(lambda x: x.astype(str).str.lower())"
      ],
      "metadata": {
        "id": "DnM-Br2uh1Ux"
      },
      "execution_count": null,
      "outputs": []
    },
    {
      "cell_type": "code",
      "source": [
        "data.loc[100, 'Cat1'], data.loc[100, 'Cat2'], data.loc[100, 'Cat3']"
      ],
      "metadata": {
        "colab": {
          "base_uri": "https://localhost:8080/"
        },
        "id": "xtDQnvfPoVB8",
        "outputId": "105f54f8-d941-4e9b-b688-66491fcb0ab2"
      },
      "execution_count": null,
      "outputs": [
        {
          "output_type": "execute_result",
          "data": {
            "text/plain": [
              "('pet supplies', 'dogs', 'houses')"
            ]
          },
          "metadata": {},
          "execution_count": 34
        }
      ]
    },
    {
      "cell_type": "code",
      "source": [
        "data.loc[100, 'Text']"
      ],
      "metadata": {
        "colab": {
          "base_uri": "https://localhost:8080/",
          "height": 122
        },
        "id": "zcRP-U84oeB_",
        "outputId": "990ba7fb-efbf-4b59-b1f5-8be0420f232a"
      },
      "execution_count": null,
      "outputs": [
        {
          "output_type": "execute_result",
          "data": {
            "text/plain": [
              "'I bought this for my maltese needless to say Its perfectIts big enough to fit food water bed and tons of toys for my dogI can even fit wee wee pad but he wont go on wee wee padand hold it until I come home from work I still leave wee wee pad just in caseIts so cute he keeps going in and out to get his toys drink water and eat his food when I leave the door openIf you dont believe in putting your dog in the regular kennel cratethis is perfect I definitely do not want to put my dog in that small crate locked upEasy to put together I am girl and was able to do it by myselfthere are little rubber pieces that comes with in order to prevent slidingdurable and ITs pretty'"
            ],
            "application/vnd.google.colaboratory.intrinsic+json": {
              "type": "string"
            }
          },
          "metadata": {},
          "execution_count": 39
        }
      ]
    },
    {
      "cell_type": "code",
      "source": [
        "import tensorflow as tf\n",
        "import numpy as np"
      ],
      "metadata": {
        "id": "_gp5KEmvPIbt"
      },
      "execution_count": null,
      "outputs": []
    },
    {
      "cell_type": "code",
      "source": [
        "from sklearn.model_selection import train_test_split\n",
        "from sklearn.preprocessing import LabelEncoder\n",
        "from tensorflow.keras.preprocessing.text import Tokenizer\n",
        "from tensorflow.keras.preprocessing.sequence import pad_sequences\n",
        "\n",
        "# Extracted relevant columns\n",
        "texts = data['Text']\n",
        "cat1_labels = data['Cat1']\n",
        "cat2_labels = data['Cat2']\n",
        "cat3_labels = data['Cat3']\n",
        "\n",
        "label_encoder_cat1 = LabelEncoder()\n",
        "label_encoder_cat2 = LabelEncoder()\n",
        "label_encoder_cat3 = LabelEncoder()\n",
        "\n",
        "cat1_encoded = label_encoder_cat1.fit_transform(cat1_labels)\n",
        "cat2_encoded = label_encoder_cat2.fit_transform(cat2_labels)\n",
        "cat3_encoded = label_encoder_cat3.fit_transform(cat3_labels)\n",
        "\n",
        "# Tokenized the text data\n",
        "tokenizer = Tokenizer()\n",
        "tokenizer.fit_on_texts(texts)\n",
        "sequences = tokenizer.texts_to_sequences(texts)\n",
        "\n",
        "# Pad sequences to ensure uniform input length\n",
        "max_sequence_length = 200  # Limited to 200 tokens for efficiency\n",
        "padded_sequences = pad_sequences(sequences, maxlen=max_sequence_length)\n",
        "\n",
        "X_train, X_test, y_train_cat1, y_test_cat1, y_train_cat2, y_test_cat2, y_train_cat3, y_test_cat3 = train_test_split(\n",
        "    padded_sequences, cat1_encoded, cat2_encoded, cat3_encoded, test_size=0.2, random_state=42)\n",
        "\n",
        "# Get the size of the vocabulary\n",
        "vocab_size = len(tokenizer.word_index) + 1\n",
        "\n",
        "# Get the number of unique classes for each category level\n",
        "num_classes_cat1 = len(label_encoder_cat1.classes_)\n",
        "num_classes_cat2 = len(label_encoder_cat2.classes_)\n",
        "num_classes_cat3 = len(label_encoder_cat3.classes_)\n",
        "\n",
        "(vocab_size, num_classes_cat1, num_classes_cat2, num_classes_cat3)\n"
      ],
      "metadata": {
        "colab": {
          "base_uri": "https://localhost:8080/"
        },
        "id": "_ORxSPNlPPO2",
        "outputId": "22329c5f-fca9-4c15-b4fb-c5259778a3c4"
      },
      "execution_count": null,
      "outputs": [
        {
          "output_type": "execute_result",
          "data": {
            "text/plain": [
              "(26164, 6, 64, 377)"
            ]
          },
          "metadata": {},
          "execution_count": 41
        }
      ]
    },
    {
      "cell_type": "code",
      "source": [
        "from tensorflow.keras.models import Model\n",
        "from tensorflow.keras.layers import Input, Embedding, LSTM, Dense, Dropout, Bidirectional\n",
        "from tensorflow.keras.callbacks import EarlyStopping\n",
        "from sklearn.utils.class_weight import compute_class_weight\n",
        "\n",
        "input_layer = Input(shape=(max_sequence_length,))\n",
        "\n",
        "embedding_layer = Embedding(input_dim=vocab_size, output_dim=128, input_length=max_sequence_length)(input_layer)\n",
        "\n",
        "# Shared LSTM layers\n",
        "lstm_layer = Bidirectional(LSTM(256, return_sequences=False))(embedding_layer)\n",
        "\n",
        "dropout_layer = Dropout(0.5)(lstm_layer)\n",
        "\n",
        "# Calculate class weights for each category\n",
        "class_weight_cat1 = compute_class_weight('balanced', classes=np.unique(y_train_cat1), y=y_train_cat1)\n",
        "class_weight_cat2 = compute_class_weight('balanced', classes=np.unique(y_train_cat2), y=y_train_cat2)\n",
        "class_weight_cat3 = compute_class_weight('balanced', classes=np.unique(y_train_cat3), y=y_train_cat3)\n",
        "\n",
        "# Created a dictionary for class weights\n",
        "class_weights = {\n",
        "    'output_cat1': dict(enumerate(class_weight_cat1)),\n",
        "    'output_cat2': dict(enumerate(class_weight_cat2)),\n",
        "    'output_cat3': dict(enumerate(class_weight_cat3))\n",
        "}\n",
        "\n",
        "# Output layers for each category level\n",
        "output_cat1 = Dense(num_classes_cat1, activation='softmax', name='output_cat1')(dropout_layer)\n",
        "output_cat2 = Dense(num_classes_cat2, activation='softmax', name='output_cat2')(dropout_layer)\n",
        "output_cat3 = Dense(num_classes_cat3, activation='softmax', name='output_cat3')(dropout_layer)\n",
        "\n",
        "model = Model(inputs=input_layer, outputs=[output_cat1, output_cat2, output_cat3])\n",
        "\n",
        "model.compile(optimizer='adam',\n",
        "              loss='sparse_categorical_crossentropy',\n",
        "              metrics={'output_cat1': 'accuracy',\n",
        "                       'output_cat2': 'accuracy',\n",
        "                       'output_cat3': 'accuracy'})\n",
        "\n",
        "\n",
        "model.summary()\n",
        "\n",
        "\n",
        "early_stopping = EarlyStopping(monitor='val_loss', patience=5, restore_best_weights=True)\n",
        "\n",
        "history = model.fit(X_train,\n",
        "                    [y_train_cat1, y_train_cat2, y_train_cat3],\n",
        "                    validation_data=(X_test, [y_test_cat1, y_test_cat2, y_test_cat3]),\n",
        "                    epochs=30,\n",
        "                    batch_size=128,\n",
        "                    callbacks=[early_stopping])\n",
        "\n",
        "# Train the model\n",
        "#history = model.fit(X_train, [y_train_cat1, y_train_cat2, y_train_cat3],\n",
        "                    #validation_data=(X_test, [y_test_cat1, y_test_cat2, y_test_cat3]),\n",
        "                    #epochs=10, batch_size=128)\n",
        "\n"
      ],
      "metadata": {
        "colab": {
          "base_uri": "https://localhost:8080/",
          "height": 1000
        },
        "id": "ULRoyXSPPa1X",
        "outputId": "c2a2f45f-2e34-45bc-d86d-9d9927f8a489"
      },
      "execution_count": null,
      "outputs": [
        {
          "output_type": "stream",
          "name": "stderr",
          "text": [
            "/usr/local/lib/python3.10/dist-packages/keras/src/layers/core/embedding.py:90: UserWarning: Argument `input_length` is deprecated. Just remove it.\n",
            "  warnings.warn(\n"
          ]
        },
        {
          "output_type": "display_data",
          "data": {
            "text/plain": [
              "\u001b[1mModel: \"functional_6\"\u001b[0m\n"
            ],
            "text/html": [
              "<pre style=\"white-space:pre;overflow-x:auto;line-height:normal;font-family:Menlo,'DejaVu Sans Mono',consolas,'Courier New',monospace\"><span style=\"font-weight: bold\">Model: \"functional_6\"</span>\n",
              "</pre>\n"
            ]
          },
          "metadata": {}
        },
        {
          "output_type": "display_data",
          "data": {
            "text/plain": [
              "┏━━━━━━━━━━━━━━━━━━━━━━━━━━━┳━━━━━━━━━━━━━━━━━━━━━━━━┳━━━━━━━━━━━━━━━━┳━━━━━━━━━━━━━━━━━━━━━━━━┓\n",
              "┃\u001b[1m \u001b[0m\u001b[1mLayer (type)             \u001b[0m\u001b[1m \u001b[0m┃\u001b[1m \u001b[0m\u001b[1mOutput Shape          \u001b[0m\u001b[1m \u001b[0m┃\u001b[1m \u001b[0m\u001b[1m       Param #\u001b[0m\u001b[1m \u001b[0m┃\u001b[1m \u001b[0m\u001b[1mConnected to          \u001b[0m\u001b[1m \u001b[0m┃\n",
              "┡━━━━━━━━━━━━━━━━━━━━━━━━━━━╇━━━━━━━━━━━━━━━━━━━━━━━━╇━━━━━━━━━━━━━━━━╇━━━━━━━━━━━━━━━━━━━━━━━━┩\n",
              "│ input_layer_7             │ (\u001b[38;5;45mNone\u001b[0m, \u001b[38;5;34m200\u001b[0m)            │              \u001b[38;5;34m0\u001b[0m │ -                      │\n",
              "│ (\u001b[38;5;33mInputLayer\u001b[0m)              │                        │                │                        │\n",
              "├───────────────────────────┼────────────────────────┼────────────────┼────────────────────────┤\n",
              "│ embedding_7 (\u001b[38;5;33mEmbedding\u001b[0m)   │ (\u001b[38;5;45mNone\u001b[0m, \u001b[38;5;34m200\u001b[0m, \u001b[38;5;34m128\u001b[0m)       │      \u001b[38;5;34m2,723,840\u001b[0m │ input_layer_7[\u001b[38;5;34m0\u001b[0m][\u001b[38;5;34m0\u001b[0m]    │\n",
              "├───────────────────────────┼────────────────────────┼────────────────┼────────────────────────┤\n",
              "│ bidirectional_3           │ (\u001b[38;5;45mNone\u001b[0m, \u001b[38;5;34m512\u001b[0m)            │        \u001b[38;5;34m788,480\u001b[0m │ embedding_7[\u001b[38;5;34m0\u001b[0m][\u001b[38;5;34m0\u001b[0m]      │\n",
              "│ (\u001b[38;5;33mBidirectional\u001b[0m)           │                        │                │                        │\n",
              "├───────────────────────────┼────────────────────────┼────────────────┼────────────────────────┤\n",
              "│ dropout_7 (\u001b[38;5;33mDropout\u001b[0m)       │ (\u001b[38;5;45mNone\u001b[0m, \u001b[38;5;34m512\u001b[0m)            │              \u001b[38;5;34m0\u001b[0m │ bidirectional_3[\u001b[38;5;34m0\u001b[0m][\u001b[38;5;34m0\u001b[0m]  │\n",
              "├───────────────────────────┼────────────────────────┼────────────────┼────────────────────────┤\n",
              "│ output_cat1 (\u001b[38;5;33mDense\u001b[0m)       │ (\u001b[38;5;45mNone\u001b[0m, \u001b[38;5;34m6\u001b[0m)              │          \u001b[38;5;34m3,078\u001b[0m │ dropout_7[\u001b[38;5;34m0\u001b[0m][\u001b[38;5;34m0\u001b[0m]        │\n",
              "├───────────────────────────┼────────────────────────┼────────────────┼────────────────────────┤\n",
              "│ output_cat2 (\u001b[38;5;33mDense\u001b[0m)       │ (\u001b[38;5;45mNone\u001b[0m, \u001b[38;5;34m64\u001b[0m)             │         \u001b[38;5;34m32,832\u001b[0m │ dropout_7[\u001b[38;5;34m0\u001b[0m][\u001b[38;5;34m0\u001b[0m]        │\n",
              "├───────────────────────────┼────────────────────────┼────────────────┼────────────────────────┤\n",
              "│ output_cat3 (\u001b[38;5;33mDense\u001b[0m)       │ (\u001b[38;5;45mNone\u001b[0m, \u001b[38;5;34m377\u001b[0m)            │        \u001b[38;5;34m193,401\u001b[0m │ dropout_7[\u001b[38;5;34m0\u001b[0m][\u001b[38;5;34m0\u001b[0m]        │\n",
              "└───────────────────────────┴────────────────────────┴────────────────┴────────────────────────┘\n"
            ],
            "text/html": [
              "<pre style=\"white-space:pre;overflow-x:auto;line-height:normal;font-family:Menlo,'DejaVu Sans Mono',consolas,'Courier New',monospace\">┏━━━━━━━━━━━━━━━━━━━━━━━━━━━┳━━━━━━━━━━━━━━━━━━━━━━━━┳━━━━━━━━━━━━━━━━┳━━━━━━━━━━━━━━━━━━━━━━━━┓\n",
              "┃<span style=\"font-weight: bold\"> Layer (type)              </span>┃<span style=\"font-weight: bold\"> Output Shape           </span>┃<span style=\"font-weight: bold\">        Param # </span>┃<span style=\"font-weight: bold\"> Connected to           </span>┃\n",
              "┡━━━━━━━━━━━━━━━━━━━━━━━━━━━╇━━━━━━━━━━━━━━━━━━━━━━━━╇━━━━━━━━━━━━━━━━╇━━━━━━━━━━━━━━━━━━━━━━━━┩\n",
              "│ input_layer_7             │ (<span style=\"color: #00d7ff; text-decoration-color: #00d7ff\">None</span>, <span style=\"color: #00af00; text-decoration-color: #00af00\">200</span>)            │              <span style=\"color: #00af00; text-decoration-color: #00af00\">0</span> │ -                      │\n",
              "│ (<span style=\"color: #0087ff; text-decoration-color: #0087ff\">InputLayer</span>)              │                        │                │                        │\n",
              "├───────────────────────────┼────────────────────────┼────────────────┼────────────────────────┤\n",
              "│ embedding_7 (<span style=\"color: #0087ff; text-decoration-color: #0087ff\">Embedding</span>)   │ (<span style=\"color: #00d7ff; text-decoration-color: #00d7ff\">None</span>, <span style=\"color: #00af00; text-decoration-color: #00af00\">200</span>, <span style=\"color: #00af00; text-decoration-color: #00af00\">128</span>)       │      <span style=\"color: #00af00; text-decoration-color: #00af00\">2,723,840</span> │ input_layer_7[<span style=\"color: #00af00; text-decoration-color: #00af00\">0</span>][<span style=\"color: #00af00; text-decoration-color: #00af00\">0</span>]    │\n",
              "├───────────────────────────┼────────────────────────┼────────────────┼────────────────────────┤\n",
              "│ bidirectional_3           │ (<span style=\"color: #00d7ff; text-decoration-color: #00d7ff\">None</span>, <span style=\"color: #00af00; text-decoration-color: #00af00\">512</span>)            │        <span style=\"color: #00af00; text-decoration-color: #00af00\">788,480</span> │ embedding_7[<span style=\"color: #00af00; text-decoration-color: #00af00\">0</span>][<span style=\"color: #00af00; text-decoration-color: #00af00\">0</span>]      │\n",
              "│ (<span style=\"color: #0087ff; text-decoration-color: #0087ff\">Bidirectional</span>)           │                        │                │                        │\n",
              "├───────────────────────────┼────────────────────────┼────────────────┼────────────────────────┤\n",
              "│ dropout_7 (<span style=\"color: #0087ff; text-decoration-color: #0087ff\">Dropout</span>)       │ (<span style=\"color: #00d7ff; text-decoration-color: #00d7ff\">None</span>, <span style=\"color: #00af00; text-decoration-color: #00af00\">512</span>)            │              <span style=\"color: #00af00; text-decoration-color: #00af00\">0</span> │ bidirectional_3[<span style=\"color: #00af00; text-decoration-color: #00af00\">0</span>][<span style=\"color: #00af00; text-decoration-color: #00af00\">0</span>]  │\n",
              "├───────────────────────────┼────────────────────────┼────────────────┼────────────────────────┤\n",
              "│ output_cat1 (<span style=\"color: #0087ff; text-decoration-color: #0087ff\">Dense</span>)       │ (<span style=\"color: #00d7ff; text-decoration-color: #00d7ff\">None</span>, <span style=\"color: #00af00; text-decoration-color: #00af00\">6</span>)              │          <span style=\"color: #00af00; text-decoration-color: #00af00\">3,078</span> │ dropout_7[<span style=\"color: #00af00; text-decoration-color: #00af00\">0</span>][<span style=\"color: #00af00; text-decoration-color: #00af00\">0</span>]        │\n",
              "├───────────────────────────┼────────────────────────┼────────────────┼────────────────────────┤\n",
              "│ output_cat2 (<span style=\"color: #0087ff; text-decoration-color: #0087ff\">Dense</span>)       │ (<span style=\"color: #00d7ff; text-decoration-color: #00d7ff\">None</span>, <span style=\"color: #00af00; text-decoration-color: #00af00\">64</span>)             │         <span style=\"color: #00af00; text-decoration-color: #00af00\">32,832</span> │ dropout_7[<span style=\"color: #00af00; text-decoration-color: #00af00\">0</span>][<span style=\"color: #00af00; text-decoration-color: #00af00\">0</span>]        │\n",
              "├───────────────────────────┼────────────────────────┼────────────────┼────────────────────────┤\n",
              "│ output_cat3 (<span style=\"color: #0087ff; text-decoration-color: #0087ff\">Dense</span>)       │ (<span style=\"color: #00d7ff; text-decoration-color: #00d7ff\">None</span>, <span style=\"color: #00af00; text-decoration-color: #00af00\">377</span>)            │        <span style=\"color: #00af00; text-decoration-color: #00af00\">193,401</span> │ dropout_7[<span style=\"color: #00af00; text-decoration-color: #00af00\">0</span>][<span style=\"color: #00af00; text-decoration-color: #00af00\">0</span>]        │\n",
              "└───────────────────────────┴────────────────────────┴────────────────┴────────────────────────┘\n",
              "</pre>\n"
            ]
          },
          "metadata": {}
        },
        {
          "output_type": "display_data",
          "data": {
            "text/plain": [
              "\u001b[1m Total params: \u001b[0m\u001b[38;5;34m3,741,631\u001b[0m (14.27 MB)\n"
            ],
            "text/html": [
              "<pre style=\"white-space:pre;overflow-x:auto;line-height:normal;font-family:Menlo,'DejaVu Sans Mono',consolas,'Courier New',monospace\"><span style=\"font-weight: bold\"> Total params: </span><span style=\"color: #00af00; text-decoration-color: #00af00\">3,741,631</span> (14.27 MB)\n",
              "</pre>\n"
            ]
          },
          "metadata": {}
        },
        {
          "output_type": "display_data",
          "data": {
            "text/plain": [
              "\u001b[1m Trainable params: \u001b[0m\u001b[38;5;34m3,741,631\u001b[0m (14.27 MB)\n"
            ],
            "text/html": [
              "<pre style=\"white-space:pre;overflow-x:auto;line-height:normal;font-family:Menlo,'DejaVu Sans Mono',consolas,'Courier New',monospace\"><span style=\"font-weight: bold\"> Trainable params: </span><span style=\"color: #00af00; text-decoration-color: #00af00\">3,741,631</span> (14.27 MB)\n",
              "</pre>\n"
            ]
          },
          "metadata": {}
        },
        {
          "output_type": "display_data",
          "data": {
            "text/plain": [
              "\u001b[1m Non-trainable params: \u001b[0m\u001b[38;5;34m0\u001b[0m (0.00 B)\n"
            ],
            "text/html": [
              "<pre style=\"white-space:pre;overflow-x:auto;line-height:normal;font-family:Menlo,'DejaVu Sans Mono',consolas,'Courier New',monospace\"><span style=\"font-weight: bold\"> Non-trainable params: </span><span style=\"color: #00af00; text-decoration-color: #00af00\">0</span> (0.00 B)\n",
              "</pre>\n"
            ]
          },
          "metadata": {}
        },
        {
          "output_type": "stream",
          "name": "stdout",
          "text": [
            "Epoch 1/30\n",
            "\u001b[1m63/63\u001b[0m \u001b[32m━━━━━━━━━━━━━━━━━━━━\u001b[0m\u001b[37m\u001b[0m \u001b[1m229s\u001b[0m 4s/step - loss: 10.9209 - output_cat1_accuracy: 0.2543 - output_cat2_accuracy: 0.0743 - output_cat3_accuracy: 0.0415 - val_loss: 10.0310 - val_output_cat1_accuracy: 0.3125 - val_output_cat2_accuracy: 0.0885 - val_output_cat3_accuracy: 0.0615\n",
            "Epoch 2/30\n",
            "\u001b[1m63/63\u001b[0m \u001b[32m━━━━━━━━━━━━━━━━━━━━\u001b[0m\u001b[37m\u001b[0m \u001b[1m263s\u001b[0m 4s/step - loss: 9.9296 - output_cat1_accuracy: 0.3339 - output_cat2_accuracy: 0.1025 - output_cat3_accuracy: 0.0741 - val_loss: 9.1894 - val_output_cat1_accuracy: 0.4200 - val_output_cat2_accuracy: 0.1600 - val_output_cat3_accuracy: 0.0860\n",
            "Epoch 3/30\n",
            "\u001b[1m63/63\u001b[0m \u001b[32m━━━━━━━━━━━━━━━━━━━━\u001b[0m\u001b[37m\u001b[0m \u001b[1m259s\u001b[0m 4s/step - loss: 8.8669 - output_cat1_accuracy: 0.5018 - output_cat2_accuracy: 0.1615 - output_cat3_accuracy: 0.0963 - val_loss: 8.5768 - val_output_cat1_accuracy: 0.5470 - val_output_cat2_accuracy: 0.1935 - val_output_cat3_accuracy: 0.0970\n",
            "Epoch 4/30\n",
            "\u001b[1m63/63\u001b[0m \u001b[32m━━━━━━━━━━━━━━━━━━━━\u001b[0m\u001b[37m\u001b[0m \u001b[1m262s\u001b[0m 4s/step - loss: 8.1338 - output_cat1_accuracy: 0.6319 - output_cat2_accuracy: 0.2057 - output_cat3_accuracy: 0.1158 - val_loss: 8.3568 - val_output_cat1_accuracy: 0.5820 - val_output_cat2_accuracy: 0.2085 - val_output_cat3_accuracy: 0.1110\n",
            "Epoch 5/30\n",
            "\u001b[1m63/63\u001b[0m \u001b[32m━━━━━━━━━━━━━━━━━━━━\u001b[0m\u001b[37m\u001b[0m \u001b[1m263s\u001b[0m 3s/step - loss: 7.6467 - output_cat1_accuracy: 0.6706 - output_cat2_accuracy: 0.2297 - output_cat3_accuracy: 0.1294 - val_loss: 8.0579 - val_output_cat1_accuracy: 0.6545 - val_output_cat2_accuracy: 0.2245 - val_output_cat3_accuracy: 0.1120\n",
            "Epoch 6/30\n",
            "\u001b[1m63/63\u001b[0m \u001b[32m━━━━━━━━━━━━━━━━━━━━\u001b[0m\u001b[37m\u001b[0m \u001b[1m263s\u001b[0m 4s/step - loss: 7.0484 - output_cat1_accuracy: 0.7882 - output_cat2_accuracy: 0.2583 - output_cat3_accuracy: 0.1386 - val_loss: 7.9398 - val_output_cat1_accuracy: 0.6695 - val_output_cat2_accuracy: 0.2155 - val_output_cat3_accuracy: 0.1255\n",
            "Epoch 7/30\n",
            "\u001b[1m63/63\u001b[0m \u001b[32m━━━━━━━━━━━━━━━━━━━━\u001b[0m\u001b[37m\u001b[0m \u001b[1m259s\u001b[0m 3s/step - loss: 6.4642 - output_cat1_accuracy: 0.8433 - output_cat2_accuracy: 0.2877 - output_cat3_accuracy: 0.1628 - val_loss: 8.2066 - val_output_cat1_accuracy: 0.6405 - val_output_cat2_accuracy: 0.2285 - val_output_cat3_accuracy: 0.1240\n",
            "Epoch 8/30\n",
            "\u001b[1m63/63\u001b[0m \u001b[32m━━━━━━━━━━━━━━━━━━━━\u001b[0m\u001b[37m\u001b[0m \u001b[1m262s\u001b[0m 3s/step - loss: 6.0662 - output_cat1_accuracy: 0.8821 - output_cat2_accuracy: 0.3099 - output_cat3_accuracy: 0.1684 - val_loss: 7.9932 - val_output_cat1_accuracy: 0.6865 - val_output_cat2_accuracy: 0.2735 - val_output_cat3_accuracy: 0.1395\n",
            "Epoch 9/30\n",
            "\u001b[1m63/63\u001b[0m \u001b[32m━━━━━━━━━━━━━━━━━━━━\u001b[0m\u001b[37m\u001b[0m \u001b[1m262s\u001b[0m 4s/step - loss: 5.8305 - output_cat1_accuracy: 0.9000 - output_cat2_accuracy: 0.3291 - output_cat3_accuracy: 0.1844 - val_loss: 8.1318 - val_output_cat1_accuracy: 0.6760 - val_output_cat2_accuracy: 0.2610 - val_output_cat3_accuracy: 0.1440\n",
            "Epoch 10/30\n",
            "\u001b[1m63/63\u001b[0m \u001b[32m━━━━━━━━━━━━━━━━━━━━\u001b[0m\u001b[37m\u001b[0m \u001b[1m257s\u001b[0m 3s/step - loss: 5.7339 - output_cat1_accuracy: 0.9036 - output_cat2_accuracy: 0.3580 - output_cat3_accuracy: 0.1993 - val_loss: 7.8570 - val_output_cat1_accuracy: 0.7030 - val_output_cat2_accuracy: 0.2920 - val_output_cat3_accuracy: 0.1500\n",
            "Epoch 11/30\n",
            "\u001b[1m63/63\u001b[0m \u001b[32m━━━━━━━━━━━━━━━━━━━━\u001b[0m\u001b[37m\u001b[0m \u001b[1m268s\u001b[0m 4s/step - loss: 5.1450 - output_cat1_accuracy: 0.9414 - output_cat2_accuracy: 0.4290 - output_cat3_accuracy: 0.2348 - val_loss: 7.8390 - val_output_cat1_accuracy: 0.7115 - val_output_cat2_accuracy: 0.3150 - val_output_cat3_accuracy: 0.1650\n",
            "Epoch 12/30\n",
            "\u001b[1m63/63\u001b[0m \u001b[32m━━━━━━━━━━━━━━━━━━━━\u001b[0m\u001b[37m\u001b[0m \u001b[1m220s\u001b[0m 4s/step - loss: 4.8527 - output_cat1_accuracy: 0.9434 - output_cat2_accuracy: 0.4737 - output_cat3_accuracy: 0.2710 - val_loss: 7.9873 - val_output_cat1_accuracy: 0.6985 - val_output_cat2_accuracy: 0.3235 - val_output_cat3_accuracy: 0.1785\n",
            "Epoch 13/30\n",
            "\u001b[1m63/63\u001b[0m \u001b[32m━━━━━━━━━━━━━━━━━━━━\u001b[0m\u001b[37m\u001b[0m \u001b[1m261s\u001b[0m 3s/step - loss: 4.5114 - output_cat1_accuracy: 0.9628 - output_cat2_accuracy: 0.5259 - output_cat3_accuracy: 0.2919 - val_loss: 8.1721 - val_output_cat1_accuracy: 0.6795 - val_output_cat2_accuracy: 0.3220 - val_output_cat3_accuracy: 0.1775\n",
            "Epoch 14/30\n",
            "\u001b[1m63/63\u001b[0m \u001b[32m━━━━━━━━━━━━━━━━━━━━\u001b[0m\u001b[37m\u001b[0m \u001b[1m263s\u001b[0m 4s/step - loss: 4.5612 - output_cat1_accuracy: 0.9438 - output_cat2_accuracy: 0.5382 - output_cat3_accuracy: 0.3058 - val_loss: 7.9368 - val_output_cat1_accuracy: 0.7070 - val_output_cat2_accuracy: 0.3630 - val_output_cat3_accuracy: 0.1945\n",
            "Epoch 15/30\n",
            "\u001b[1m63/63\u001b[0m \u001b[32m━━━━━━━━━━━━━━━━━━━━\u001b[0m\u001b[37m\u001b[0m \u001b[1m262s\u001b[0m 3s/step - loss: 4.2115 - output_cat1_accuracy: 0.9630 - output_cat2_accuracy: 0.5803 - output_cat3_accuracy: 0.3245 - val_loss: 7.9961 - val_output_cat1_accuracy: 0.6940 - val_output_cat2_accuracy: 0.3610 - val_output_cat3_accuracy: 0.1975\n",
            "Epoch 16/30\n",
            "\u001b[1m63/63\u001b[0m \u001b[32m━━━━━━━━━━━━━━━━━━━━\u001b[0m\u001b[37m\u001b[0m \u001b[1m261s\u001b[0m 4s/step - loss: 4.0186 - output_cat1_accuracy: 0.9664 - output_cat2_accuracy: 0.6121 - output_cat3_accuracy: 0.3355 - val_loss: 8.1914 - val_output_cat1_accuracy: 0.7000 - val_output_cat2_accuracy: 0.3620 - val_output_cat3_accuracy: 0.2020\n"
          ]
        }
      ]
    },
    {
      "cell_type": "code",
      "source": [
        "import matplotlib.pyplot as plt\n",
        "\n",
        "plt.figure(figsize=(15, 5))\n",
        "\n",
        "# Plot for Cat1\n",
        "plt.subplot(1, 3, 1)\n",
        "plt.plot(history.history['output_cat1_accuracy'], label='Training Accuracy')\n",
        "plt.plot(history.history['val_output_cat1_accuracy'], label='Validation Accuracy')\n",
        "plt.title('Cat1 Accuracy')\n",
        "plt.xlabel('Epochs')\n",
        "plt.ylabel('Accuracy')\n",
        "plt.legend()\n",
        "\n",
        "# Plot for Cat2\n",
        "plt.subplot(1, 3, 2)\n",
        "plt.plot(history.history['output_cat2_accuracy'], label='Training Accuracy')\n",
        "plt.plot(history.history['val_output_cat2_accuracy'], label='Validation Accuracy')\n",
        "plt.title('Cat2 Accuracy')\n",
        "plt.xlabel('Epochs')\n",
        "plt.ylabel('Accuracy')\n",
        "plt.legend()\n",
        "\n",
        "# Plot for Cat3\n",
        "plt.subplot(1, 3, 3)\n",
        "plt.plot(history.history['output_cat3_accuracy'], label='Training Accuracy')\n",
        "plt.plot(history.history['val_output_cat3_accuracy'], label='Validation Accuracy')\n",
        "plt.title('Cat3 Accuracy')\n",
        "plt.xlabel('Epochs')\n",
        "plt.ylabel('Accuracy')\n",
        "plt.legend()\n",
        "\n",
        "plt.tight_layout()\n",
        "plt.show()\n"
      ],
      "metadata": {
        "colab": {
          "base_uri": "https://localhost:8080/",
          "height": 315
        },
        "id": "R_IyJIjcDWmT",
        "outputId": "a2c9c845-1596-4a92-ad22-5ddad7cbc25c"
      },
      "execution_count": null,
      "outputs": [
        {
          "output_type": "display_data",
          "data": {
            "text/plain": [
              "<Figure size 1500x500 with 3 Axes>"
            ],
            "image/png": "[encoded data removed]"
          },
          "metadata": {}
        }
      ]
    },
    {
      "cell_type": "code",
      "source": [
        "# Sample text for prediction\n",
        "sample_text = [\"This product is fantastic and works great for my dog!\"]\n",
        "\n",
        "# Preprocessed the sample text\n",
        "sample_sequence = tokenizer.texts_to_sequences(sample_text)\n",
        "sample_padded = pad_sequences(sample_sequence, maxlen=max_sequence_length)\n",
        "\n",
        "predictions = model.predict(sample_padded)\n",
        "\n",
        "# Decoded the predictions to their corresponding category labels\n",
        "predicted_cat1 = label_encoder_cat1.inverse_transform(predictions[0].argmax(axis=1))\n",
        "predicted_cat2 = label_encoder_cat2.inverse_transform(predictions[1].argmax(axis=1))\n",
        "predicted_cat3 = label_encoder_cat3.inverse_transform(predictions[2].argmax(axis=1))\n",
        "\n",
        "print(f\"Predicted Cat1: {predicted_cat1[0]}\")\n",
        "print(f\"Predicted Cat2: {predicted_cat2[0]}\")\n",
        "print(f\"Predicted Cat3: {predicted_cat3[0]}\")\n"
      ],
      "metadata": {
        "colab": {
          "base_uri": "https://localhost:8080/"
        },
        "id": "OozxVBZ0VRMU",
        "outputId": "51babff0-0750-4fad-cf8e-9caf7754a71f"
      },
      "execution_count": null,
      "outputs": [
        {
          "output_type": "stream",
          "name": "stdout",
          "text": [
            "\u001b[1m1/1\u001b[0m \u001b[32m━━━━━━━━━━━━━━━━━━━━\u001b[0m\u001b[37m\u001b[0m \u001b[1m0s\u001b[0m 171ms/step\n",
            "Predicted Cat1: pet supplies\n",
            "Predicted Cat2: dogs\n",
            "Predicted Cat3: toys\n"
          ]
        }
      ]
    }
  ]
}